{
 "cells": [
  {
   "cell_type": "code",
   "execution_count": 2,
   "metadata": {},
   "outputs": [],
   "source": [
    "import openai\n",
    "import pandas as pd"
   ]
  },
  {
   "cell_type": "code",
   "execution_count": 3,
   "metadata": {},
   "outputs": [],
   "source": [
    "client = openai.Client()"
   ]
  },
  {
   "cell_type": "code",
   "execution_count": 4,
   "metadata": {},
   "outputs": [],
   "source": [
    "file = client.files.create(\n",
    "    file=open(\"sales_data.csv\", \"rb\"),\n",
    "    purpose=\"assistants\"\n",
    ")"
   ]
  },
  {
   "cell_type": "code",
   "execution_count": 5,
   "metadata": {},
   "outputs": [
    {
     "name": "stdout",
     "output_type": "stream",
     "text": [
      "file-4yaR3vJvEzHNG1Vi77eo1c\n"
     ]
    }
   ],
   "source": [
    "print(file.id)"
   ]
  },
  {
   "cell_type": "code",
   "execution_count": 7,
   "metadata": {},
   "outputs": [],
   "source": [
    "assistant = client.beta.assistants.create(\n",
    "    name=\"Analista de dados\",\n",
    "    instructions=\"voce é um analista que analisa dados sobre vendas\",\n",
    "    tools=[{\"type\":\"code_interpreter\"}],\n",
    "    tool_resources={\"code_interpreter\":{\"file_ids\":[file.id]}},\n",
    "    model=\"gpt-4o\"\n",
    ")"
   ]
  },
  {
   "cell_type": "code",
   "execution_count": 17,
   "metadata": {},
   "outputs": [],
   "source": [
    "# pergunta = \"Qual rating medio das vendas do supermercado.\"\n",
    "pergunta = \"Gere um grafico pizza com o percentual de vendas por linha de produto.\""
   ]
  },
  {
   "cell_type": "code",
   "execution_count": 18,
   "metadata": {},
   "outputs": [],
   "source": [
    " # criacao da thread\n",
    "thread = client.beta.threads.create()\n",
    "message = client.beta.threads.messages.create(\n",
    "    thread_id=thread.id,\n",
    "    role=\"user\",\n",
    "    content=pergunta\n",
    ")"
   ]
  },
  {
   "cell_type": "code",
   "execution_count": 19,
   "metadata": {},
   "outputs": [],
   "source": [
    "# executa a thread\n",
    "run = client.beta.threads.runs.create(\n",
    "    thread_id=thread.id,\n",
    "    assistant_id=assistant.id,\n",
    "    instructions=\"Nome de usuário premium\"\n",
    ")"
   ]
  },
  {
   "cell_type": "code",
   "execution_count": 20,
   "metadata": {},
   "outputs": [],
   "source": [
    "# aguarda a thread rodar\n",
    "import time\n",
    "while run.status in [\"queued\", \"in_progress\", \"cancelling\"]:\n",
    "    time.sleep(1)\n",
    "    run = client.beta.threads.runs.retrieve(\n",
    "        thread_id=thread.id,\n",
    "        run_id=run.id\n",
    "    )"
   ]
  },
  {
   "cell_type": "code",
   "execution_count": 21,
   "metadata": {},
   "outputs": [
    {
     "name": "stdout",
     "output_type": "stream",
     "text": [
      "SyncCursorPage[Message](data=[Message(id='msg_kwi0r8CqQBu9sAwH40bnq9e4', assistant_id='asst_OVun1Z8No9ycFKkiy8jF4IHK', attachments=[], completed_at=None, content=[ImageFileContentBlock(image_file=ImageFile(file_id='file-MHUxrr4VvNtrBEZ9xwssuz', detail=None), type='image_file'), TextContentBlock(text=Text(annotations=[], value='Aqui está o gráfico de pizza que mostra o percentual de vendas por linha de produto. Cada fatia representa a contribuição percentual de uma linha de produto para o total de vendas. Se precisar de mais alguma análise ou modificação no gráfico, é só me avisar!'), type='text')], created_at=1746574823, incomplete_at=None, incomplete_details=None, metadata={}, object='thread.message', role='assistant', run_id='run_EV1xVyIEgViSvyb3AU8NjurF', status=None, thread_id='thread_KiWWlLDvwx523KvjyZQ4WArq'), Message(id='msg_B08uN1skujcY5YkPCx4AvN7N', assistant_id='asst_OVun1Z8No9ycFKkiy8jF4IHK', attachments=[], completed_at=None, content=[TextContentBlock(text=Text(annotations=[], value='O conjunto de dados contém uma coluna chamada \"Product line\" que indica a linha de produto, e uma coluna \"Total\" que representa o total das vendas. Vamos usar essas informações para calcular o percentual de vendas por linha de produto e gerar um gráfico de pizza.'), type='text')], created_at=1746574814, incomplete_at=None, incomplete_details=None, metadata={}, object='thread.message', role='assistant', run_id='run_EV1xVyIEgViSvyb3AU8NjurF', status=None, thread_id='thread_KiWWlLDvwx523KvjyZQ4WArq'), Message(id='msg_ZAoac37OyQY2PlgB7f4DeILb', assistant_id='asst_OVun1Z8No9ycFKkiy8jF4IHK', attachments=[], completed_at=None, content=[TextContentBlock(text=Text(annotations=[], value='Primeiro, vamos examinar o conteúdo do arquivo que você enviou para entender sua estrutura e identificar a linha de produto e as vendas. Depois, geraremos o gráfico de pizza.'), type='text')], created_at=1746574809, incomplete_at=None, incomplete_details=None, metadata={}, object='thread.message', role='assistant', run_id='run_EV1xVyIEgViSvyb3AU8NjurF', status=None, thread_id='thread_KiWWlLDvwx523KvjyZQ4WArq'), Message(id='msg_DuhbahE2eARPiUtUoTDLf7yO', assistant_id=None, attachments=[], completed_at=None, content=[TextContentBlock(text=Text(annotations=[], value='Gere um grafico pizza com o percentual de vendas por linha de produto.'), type='text')], created_at=1746574804, incomplete_at=None, incomplete_details=None, metadata={}, object='thread.message', role='user', run_id=None, status=None, thread_id='thread_KiWWlLDvwx523KvjyZQ4WArq')], has_more=False, object='list', first_id='msg_kwi0r8CqQBu9sAwH40bnq9e4', last_id='msg_DuhbahE2eARPiUtUoTDLf7yO')\n"
     ]
    }
   ],
   "source": [
    "# Verifica a resposta\n",
    "if run.status == \"completed\":\n",
    "    mensagens = client.beta.threads.messages.list(\n",
    "        thread_id=thread.id\n",
    "    )\n",
    "    print(mensagens)\n",
    "else:\n",
    "    print(f\"Erro {run.status}\")"
   ]
  },
  {
   "cell_type": "code",
   "execution_count": 22,
   "metadata": {},
   "outputs": [],
   "source": [
    "# analizando os passos do modelo\n",
    "run_steps = client.beta.threads.runs.steps.list(\n",
    "    thread_id=thread.id,\n",
    "    run_id=run.id\n",
    ")"
   ]
  },
  {
   "cell_type": "code",
   "execution_count": 23,
   "metadata": {},
   "outputs": [
    {
     "ename": "AttributeError",
     "evalue": "'ImageFileContentBlock' object has no attribute 'text'",
     "output_type": "error",
     "traceback": [
      "\u001b[31m---------------------------------------------------------------------------\u001b[39m",
      "\u001b[31mAttributeError\u001b[39m                            Traceback (most recent call last)",
      "\u001b[36mCell\u001b[39m\u001b[36m \u001b[39m\u001b[32mIn[23]\u001b[39m\u001b[32m, line 1\u001b[39m\n\u001b[32m----> \u001b[39m\u001b[32m1\u001b[39m \u001b[43mmensagens\u001b[49m\u001b[43m.\u001b[49m\u001b[43mdata\u001b[49m\u001b[43m[\u001b[49m\u001b[32;43m0\u001b[39;49m\u001b[43m]\u001b[49m\u001b[43m.\u001b[49m\u001b[43mcontent\u001b[49m\u001b[43m[\u001b[49m\u001b[32;43m0\u001b[39;49m\u001b[43m]\u001b[49m\u001b[43m.\u001b[49m\u001b[43mtext\u001b[49m.value\n",
      "\u001b[36mFile \u001b[39m\u001b[32mc:\\Users\\afcol\\OneDrive\\Documents\\IA\\.venv\\Lib\\site-packages\\pydantic\\main.py:891\u001b[39m, in \u001b[36mBaseModel.__getattr__\u001b[39m\u001b[34m(self, item)\u001b[39m\n\u001b[32m    888\u001b[39m     \u001b[38;5;28;01mreturn\u001b[39;00m \u001b[38;5;28msuper\u001b[39m().\u001b[34m__getattribute__\u001b[39m(item)  \u001b[38;5;66;03m# Raises AttributeError if appropriate\u001b[39;00m\n\u001b[32m    889\u001b[39m \u001b[38;5;28;01melse\u001b[39;00m:\n\u001b[32m    890\u001b[39m     \u001b[38;5;66;03m# this is the current error\u001b[39;00m\n\u001b[32m--> \u001b[39m\u001b[32m891\u001b[39m     \u001b[38;5;28;01mraise\u001b[39;00m \u001b[38;5;167;01mAttributeError\u001b[39;00m(\u001b[33mf\u001b[39m\u001b[33m'\u001b[39m\u001b[38;5;132;01m{\u001b[39;00m\u001b[38;5;28mtype\u001b[39m(\u001b[38;5;28mself\u001b[39m).\u001b[34m__name__\u001b[39m\u001b[38;5;132;01m!r}\u001b[39;00m\u001b[33m object has no attribute \u001b[39m\u001b[38;5;132;01m{\u001b[39;00mitem\u001b[38;5;132;01m!r}\u001b[39;00m\u001b[33m'\u001b[39m)\n",
      "\u001b[31mAttributeError\u001b[39m: 'ImageFileContentBlock' object has no attribute 'text'"
     ]
    }
   ],
   "source": [
    "mensagens.data[0].content[0].text.value"
   ]
  },
  {
   "cell_type": "code",
   "execution_count": 26,
   "metadata": {},
   "outputs": [
    {
     "name": "stdout",
     "output_type": "stream",
     "text": [
      "\n",
      "=== Step message_creation\n",
      "Primeiro, vamos examinar o conteúdo do arquivo que você enviou para entender sua estrutura e identificar a linha de produto e as vendas. Depois, geraremos o gráfico de pizza.\n",
      "\n",
      "=== Step tool_calls\n",
      "===========\n",
      "import pandas as pd\n",
      "\n",
      "# Ler o arquivo para entender sua estrutura\n",
      "file_path = '/mnt/data/file-4yaR3vJvEzHNG1Vi77eo1c'\n",
      "data = pd.read_csv(file_path)\n",
      "\n",
      "# Exibir as primeiras linhas do dataframe para entender sua estrutura\n",
      "data.head()\n",
      "===========\n",
      "\n",
      "=== Step message_creation\n",
      "O conjunto de dados contém uma coluna chamada \"Product line\" que indica a linha de produto, e uma coluna \"Total\" que representa o total das vendas. Vamos usar essas informações para calcular o percentual de vendas por linha de produto e gerar um gráfico de pizza.\n",
      "\n",
      "=== Step tool_calls\n",
      "===========\n",
      "import matplotlib.pyplot as plt\n",
      "\n",
      "# Calcular o valor total de vendas por linha de produto\n",
      "sales_by_product_line = data.groupby('Product line')['Total'].sum()\n",
      "\n",
      "# Calcular percentual de vendas por linha de produto\n",
      "sales_percentage = (sales_by_product_line / sales_by_product_line.sum()) * 100\n",
      "\n",
      "# Gerar gráfico de pizza\n",
      "plt.figure(figsize=(10, 7))\n",
      "plt.pie(sales_percentage, labels=sales_percentage.index, autopct='%1.1f%%', startangle=140)\n",
      "plt.title('Percentual de Vendas por Linha de Produto')\n",
      "plt.show()\n",
      "===========\n",
      "\n",
      "=== Step message_creation\n",
      "Imagem file-MHUxrr4VvNtrBEZ9xwssuz foi salva!\n"
     ]
    }
   ],
   "source": [
    "for step in run_steps.data[::-1]:\n",
    "    print(f\"\\n=== Step {step.step_details.type}\")\n",
    "    if step.step_details.type == \"tool_calls\":\n",
    "        for tool_call in step.step_details.tool_calls:\n",
    "            print(\"===========\")\n",
    "            print(tool_call.code_interpreter.input)\n",
    "            print(\"===========\")\n",
    "    if step.step_details.type == \"message_creation\":\n",
    "        message = client.beta.threads.messages.retrieve(\n",
    "            thread_id=thread.id,\n",
    "            message_id=step.step_details.message_creation.message_id\n",
    "        )\n",
    "        if message.content[0].type == \"text\":\n",
    "            print(message.content[0].text.value)\n",
    "        if message.content[0].type == \"image_file\":\n",
    "            file_id = message.content[0].image_file.file_id\n",
    "            image_data = client.files.content(file_id)\n",
    "            with open(f\"files/{file.id}.png\", \"wb\") as f:\n",
    "                f.write(image_data.read())\n",
    "                print(f\"Imagem {file_id} foi salva!\")"
   ]
  }
 ],
 "metadata": {
  "kernelspec": {
   "display_name": ".venv",
   "language": "python",
   "name": "python3"
  },
  "language_info": {
   "codemirror_mode": {
    "name": "ipython",
    "version": 3
   },
   "file_extension": ".py",
   "mimetype": "text/x-python",
   "name": "python",
   "nbconvert_exporter": "python",
   "pygments_lexer": "ipython3",
   "version": "3.11.9"
  }
 },
 "nbformat": 4,
 "nbformat_minor": 2
}
