{
 "cells": [
  {
   "cell_type": "code",
   "execution_count": 1,
   "metadata": {},
   "outputs": [],
   "source": [
    "import openai"
   ]
  },
  {
   "cell_type": "code",
   "execution_count": 2,
   "metadata": {},
   "outputs": [],
   "source": [
    "client = openai.Client()"
   ]
  },
  {
   "cell_type": "code",
   "execution_count": 3,
   "metadata": {},
   "outputs": [],
   "source": [
    "assistant = client.beta.assistants.create(\n",
    "    name=\"Tutor de tecnologia\",\n",
    "    instructions=\"Voce é um tutor de tecnologia.\",\n",
    "    tools=[{\"type\":\"code_interpreter\"}],\n",
    "    model=\"gpt-3.5-turbo-0125\"\n",
    ")"
   ]
  },
  {
   "cell_type": "code",
   "execution_count": 5,
   "metadata": {},
   "outputs": [],
   "source": [
    "pergunta = \"\"\"\n",
    "    Em um sistema de cache com mapeamento direto, dado uma memoria principal de uma cache de 256 KB e blocos de 64 bytes:\n",
    "    - Quantas linhas existem na cache?\n",
    "    - Onde o bloco de endereço de Ox1A23C será mapeado na cache?\n",
    "\"\"\""
   ]
  },
  {
   "cell_type": "code",
   "execution_count": null,
   "metadata": {},
   "outputs": [],
   "source": [
    " # criacao da thread\n",
    "thread = client.beta.threads.create()\n",
    "message = client.beta.threads.messages.create(\n",
    "    thread_id=thread.id,\n",
    "    role=\"user\",\n",
    "    content=pergunta\n",
    ")"
   ]
  },
  {
   "cell_type": "code",
   "execution_count": 7,
   "metadata": {},
   "outputs": [],
   "source": [
    "# executa a thread\n",
    "run = client.beta.threads.runs.create(\n",
    "    thread_id=thread.id,\n",
    "    assistant_id=assistant.id,\n",
    "    instructions=\"Nome de usuário premium\"\n",
    ")"
   ]
  },
  {
   "cell_type": "code",
   "execution_count": 9,
   "metadata": {},
   "outputs": [
    {
     "data": {
      "text/plain": [
       "'queued'"
      ]
     },
     "execution_count": 9,
     "metadata": {},
     "output_type": "execute_result"
    }
   ],
   "source": [
    "run.status"
   ]
  },
  {
   "cell_type": "code",
   "execution_count": null,
   "metadata": {},
   "outputs": [],
   "source": [
    "# aguarda a thread rodar\n",
    "import time\n",
    "while run.status in [\"queued\", \"in_progress\", \"cancelling\"]:\n",
    "    time.sleep(1)\n",
    "    run = client.beta.threads.runs.retrieve(\n",
    "        thread_id=thread.id,\n",
    "        run_id=run.id\n",
    "    )"
   ]
  },
  {
   "cell_type": "code",
   "execution_count": 13,
   "metadata": {},
   "outputs": [
    {
     "name": "stdout",
     "output_type": "stream",
     "text": [
      "SyncCursorPage[Message](data=[Message(id='msg_WsUOGW1uWRe480WfAhKdgaPa', assistant_id='asst_dozU1TWdLvwpU9CmYcSUSZBD', attachments=[], completed_at=None, content=[TextContentBlock(text=Text(annotations=[], value='O bloco de endereço 0x1A23C será mapeado na linha 1672 da cache.\\n\\nSe precisar de mais alguma coisa, por favor me avise.'), type='text')], created_at=1743640250, incomplete_at=None, incomplete_details=None, metadata={}, object='thread.message', role='assistant', run_id='run_Su4XgX8ciJEW2x0LqnA7SofC', status=None, thread_id='thread_XWxPiz28mXMLJa9qRFlAJbRa'), Message(id='msg_pn79rng6F3UhekjtlZprkEJF', assistant_id='asst_dozU1TWdLvwpU9CmYcSUSZBD', attachments=[], completed_at=None, content=[TextContentBlock(text=Text(annotations=[], value='Os cálculos corrigidos indicam que o bloco de endereço 0x1A23C será dividido da seguinte forma:\\n- 6 bits para o offset\\n- 12 bits para a linha\\n- 14 bits para a tag\\n\\nAgora, vamos determinar em qual linha da cache o bloco de endereço 0x1A23C será mapeado. Para isso, vamos extrair a parte da linha do endereço.'), type='text')], created_at=1743640248, incomplete_at=None, incomplete_details=None, metadata={}, object='thread.message', role='assistant', run_id='run_Su4XgX8ciJEW2x0LqnA7SofC', status=None, thread_id='thread_XWxPiz28mXMLJa9qRFlAJbRa'), Message(id='msg_tCr2a1xlqswmAXNhhXtt5E2Z', assistant_id='asst_dozU1TWdLvwpU9CmYcSUSZBD', attachments=[], completed_at=None, content=[TextContentBlock(text=Text(annotations=[], value='Os cálculos indicam que o número de bits da tag é negativo, o que não faz sentido. Vamos revisar o cálculo para determinar o número correto de bits da tag.'), type='text')], created_at=1743640245, incomplete_at=None, incomplete_details=None, metadata={}, object='thread.message', role='assistant', run_id='run_Su4XgX8ciJEW2x0LqnA7SofC', status=None, thread_id='thread_XWxPiz28mXMLJa9qRFlAJbRa'), Message(id='msg_hw4MJsAx4BmhAlb3ukIfe8V8', assistant_id='asst_dozU1TWdLvwpU9CmYcSUSZBD', attachments=[], completed_at=None, content=[TextContentBlock(text=Text(annotations=[], value='A cache terá 4096 linhas.\\n\\nAgora, vamos identificar onde o bloco de endereço 0x1A23C será mapeado na cache. Para isso, precisamos entender como é feito o mapeamento direto.\\n\\nNo mapeamento direto, o bloco de endereço é dividido em três partes: tag, linha e offset.\\n- O número de bits do offset é dado por log2(Tamanho do Bloco).\\n- O número de bits da linha é o número total de linhas na cache.\\n- O restante dos bits é usado para a tag.\\n\\nVamos calcular quantos bits são necessários para cada parte (tag, linha e offset) e então determinar onde o bloco de endereço 0x1A23C será mapeado na cache.'), type='text')], created_at=1743640240, incomplete_at=None, incomplete_details=None, metadata={}, object='thread.message', role='assistant', run_id='run_Su4XgX8ciJEW2x0LqnA7SofC', status=None, thread_id='thread_XWxPiz28mXMLJa9qRFlAJbRa'), Message(id='msg_sBweyq8KwabIx2iQTdcVL1gw', assistant_id='asst_dozU1TWdLvwpU9CmYcSUSZBD', attachments=[], completed_at=None, content=[TextContentBlock(text=Text(annotations=[], value='Para resolver essa questão, precisamos seguir os seguintes passos:\\n\\n1. Calcular o número de linhas na cache.\\n2. Identificar onde o bloco de endereço 0x1A23C será mapeado na cache.\\n\\nPrimeiramente, vamos calcular o número de linhas na cache. Para isso, vamos usar a fórmula:\\n\\nNúmero de linhas = Tamanho da Cache / Tamanho do Bloco\\n\\nVamos realizar esses cálculos.'), type='text')], created_at=1743640236, incomplete_at=None, incomplete_details=None, metadata={}, object='thread.message', role='assistant', run_id='run_Su4XgX8ciJEW2x0LqnA7SofC', status=None, thread_id='thread_XWxPiz28mXMLJa9qRFlAJbRa'), Message(id='msg_W0IKPvFRsgMlTzwtMAVu2UHV', assistant_id=None, attachments=[], completed_at=None, content=[TextContentBlock(text=Text(annotations=[], value='\\n    Em um sistema de cache com mapeamento direto, dado uma memoria principal de uma cache de 256 KB e blocos de 64 bytes:\\n    - Quantas linhas existem na cache?\\n    - Onde o bloco de endereço de Ox1A23C será mapeado na cache?\\n'), type='text')], created_at=1743640141, incomplete_at=None, incomplete_details=None, metadata={}, object='thread.message', role='user', run_id=None, status=None, thread_id='thread_XWxPiz28mXMLJa9qRFlAJbRa')], has_more=False, object='list', first_id='msg_WsUOGW1uWRe480WfAhKdgaPa', last_id='msg_W0IKPvFRsgMlTzwtMAVu2UHV')\n"
     ]
    }
   ],
   "source": [
    "# Verifica a resposta\n",
    "if run.status == \"completed\":\n",
    "    mensagens = client.beta.threads.messages.list(\n",
    "        thread_id=thread.id\n",
    "    )\n",
    "    print(mensagens)\n",
    "else:\n",
    "    print(f\"Erro {run.status}\")"
   ]
  },
  {
   "cell_type": "code",
   "execution_count": 14,
   "metadata": {},
   "outputs": [
    {
     "name": "stdout",
     "output_type": "stream",
     "text": [
      "O bloco de endereço 0x1A23C será mapeado na linha 1672 da cache.\n",
      "\n",
      "Se precisar de mais alguma coisa, por favor me avise.\n"
     ]
    }
   ],
   "source": [
    "print(mensagens.data[0].content[0].text.value)"
   ]
  },
  {
   "cell_type": "code",
   "execution_count": 15,
   "metadata": {},
   "outputs": [],
   "source": [
    "# analizando os passos do modelo\n",
    "run_steps = client.beta.threads.runs.steps.list(\n",
    "    thread_id=thread.id,\n",
    "    run_id=run.id\n",
    ")"
   ]
  },
  {
   "cell_type": "code",
   "execution_count": 17,
   "metadata": {},
   "outputs": [
    {
     "name": "stdout",
     "output_type": "stream",
     "text": [
      "\n",
      "=== Step message_creation\n",
      "Para resolver essa questão, precisamos seguir os seguintes passos:\n",
      "\n",
      "1. Calcular o número de linhas na cache.\n",
      "2. Identificar onde o bloco de endereço 0x1A23C será mapeado na cache.\n",
      "\n",
      "Primeiramente, vamos calcular o número de linhas na cache. Para isso, vamos usar a fórmula:\n",
      "\n",
      "Número de linhas = Tamanho da Cache / Tamanho do Bloco\n",
      "\n",
      "Vamos realizar esses cálculos.\n",
      "\n",
      "=== Step tool_calls\n",
      "===========\n",
      "# Tamanho da cache em KB\n",
      "tamanho_cache_kb = 256\n",
      "\n",
      "# Tamanho do bloco em bytes\n",
      "tamanho_bloco_bytes = 64\n",
      "\n",
      "# Convertendo o tamanho da cache para bytes\n",
      "tamanho_cache_bytes = tamanho_cache_kb * 1024\n",
      "\n",
      "# Calculando o número de linhas na cache\n",
      "numero_linhas_cache = tamanho_cache_bytes / tamanho_bloco_bytes\n",
      "numero_linhas_cache\n",
      "===========\n",
      "\n",
      "=== Step message_creation\n",
      "A cache terá 4096 linhas.\n",
      "\n",
      "Agora, vamos identificar onde o bloco de endereço 0x1A23C será mapeado na cache. Para isso, precisamos entender como é feito o mapeamento direto.\n",
      "\n",
      "No mapeamento direto, o bloco de endereço é dividido em três partes: tag, linha e offset.\n",
      "- O número de bits do offset é dado por log2(Tamanho do Bloco).\n",
      "- O número de bits da linha é o número total de linhas na cache.\n",
      "- O restante dos bits é usado para a tag.\n",
      "\n",
      "Vamos calcular quantos bits são necessários para cada parte (tag, linha e offset) e então determinar onde o bloco de endereço 0x1A23C será mapeado na cache.\n",
      "\n",
      "=== Step tool_calls\n",
      "===========\n",
      "import math\n",
      "\n",
      "# Convertendo o endereço para binário representado como uma string\n",
      "endereco_binario = format(0x1A23C, 'b')\n",
      "\n",
      "# Número de bits do offset\n",
      "bits_offset = int(math.log2(tamanho_bloco_bytes))\n",
      "\n",
      "# Número de bits da linha\n",
      "bits_linha = int(math.log2(numero_linhas_cache))\n",
      "\n",
      "# Número de bits da tag\n",
      "bits_tag = len(endereco_binario) - bits_offset - bits_linha\n",
      "\n",
      "bits_offset, bits_linha, bits_tag\n",
      "===========\n",
      "\n",
      "=== Step message_creation\n",
      "Os cálculos indicam que o número de bits da tag é negativo, o que não faz sentido. Vamos revisar o cálculo para determinar o número correto de bits da tag.\n",
      "\n",
      "=== Step tool_calls\n",
      "===========\n",
      "# Vamos corrigir o cálculo do número de bits da tag\n",
      "bits_tag = 32 - bits_offset - bits_linha\n",
      "\n",
      "bits_offset, bits_linha, bits_tag\n",
      "===========\n",
      "\n",
      "=== Step message_creation\n",
      "Os cálculos corrigidos indicam que o bloco de endereço 0x1A23C será dividido da seguinte forma:\n",
      "- 6 bits para o offset\n",
      "- 12 bits para a linha\n",
      "- 14 bits para a tag\n",
      "\n",
      "Agora, vamos determinar em qual linha da cache o bloco de endereço 0x1A23C será mapeado. Para isso, vamos extrair a parte da linha do endereço.\n",
      "\n",
      "=== Step tool_calls\n",
      "===========\n",
      "# Extraindo a parte da linha do endereço\n",
      "linha_endereco = int(endereco_binario[-bits_offset-bits_linha:-bits_offset], 2)\n",
      "linha_endereco\n",
      "===========\n",
      "\n",
      "=== Step message_creation\n",
      "O bloco de endereço 0x1A23C será mapeado na linha 1672 da cache.\n",
      "\n",
      "Se precisar de mais alguma coisa, por favor me avise.\n"
     ]
    }
   ],
   "source": [
    "for step in run_steps.data[::-1]:\n",
    "    print(f\"\\n=== Step {step.step_details.type}\")\n",
    "    if step.step_details.type == \"tool_calls\":\n",
    "        for tool_call in step.step_details.tool_calls:\n",
    "            print(\"===========\")\n",
    "            print(tool_call.code_interpreter.input)\n",
    "            print(\"===========\")\n",
    "    if step.step_details.type == \"message_creation\":\n",
    "        message = client.beta.threads.messages.retrieve(\n",
    "            thread_id=thread.id,\n",
    "            message_id=step.step_details.message_creation.message_id\n",
    "        )\n",
    "\n",
    "        print(message.content[0].text.value)"
   ]
  }
 ],
 "metadata": {
  "kernelspec": {
   "display_name": ".venv",
   "language": "python",
   "name": "python3"
  },
  "language_info": {
   "codemirror_mode": {
    "name": "ipython",
    "version": 3
   },
   "file_extension": ".py",
   "mimetype": "text/x-python",
   "name": "python",
   "nbconvert_exporter": "python",
   "pygments_lexer": "ipython3",
   "version": "3.11.9"
  }
 },
 "nbformat": 4,
 "nbformat_minor": 2
}
