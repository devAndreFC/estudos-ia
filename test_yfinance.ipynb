{
 "cells": [
  {
   "cell_type": "code",
   "execution_count": 8,
   "metadata": {},
   "outputs": [],
   "source": [
    "import yfinance as yf"
   ]
  },
  {
   "cell_type": "code",
   "execution_count": 9,
   "metadata": {},
   "outputs": [],
   "source": [
    "ticker = \"BBDC4\"\n",
    "periodo =\"5d\"\n",
    "ticker_obj = yf.Ticker(f\"{ticker}.SA\")"
   ]
  },
  {
   "cell_type": "code",
   "execution_count": 10,
   "metadata": {},
   "outputs": [
    {
     "data": {
      "text/plain": [
       "yfinance.Ticker object <BBDC4.SA>"
      ]
     },
     "execution_count": 10,
     "metadata": {},
     "output_type": "execute_result"
    }
   ],
   "source": [
    "ticker_obj"
   ]
  },
  {
   "cell_type": "code",
   "execution_count": 11,
   "metadata": {},
   "outputs": [
    {
     "data": {
      "text/html": [
       "<div>\n",
       "<style scoped>\n",
       "    .dataframe tbody tr th:only-of-type {\n",
       "        vertical-align: middle;\n",
       "    }\n",
       "\n",
       "    .dataframe tbody tr th {\n",
       "        vertical-align: top;\n",
       "    }\n",
       "\n",
       "    .dataframe thead th {\n",
       "        text-align: right;\n",
       "    }\n",
       "</style>\n",
       "<table border=\"1\" class=\"dataframe\">\n",
       "  <thead>\n",
       "    <tr style=\"text-align: right;\">\n",
       "      <th></th>\n",
       "      <th>Open</th>\n",
       "      <th>High</th>\n",
       "      <th>Low</th>\n",
       "      <th>Close</th>\n",
       "      <th>Volume</th>\n",
       "      <th>Dividends</th>\n",
       "      <th>Stock Splits</th>\n",
       "    </tr>\n",
       "    <tr>\n",
       "      <th>Date</th>\n",
       "      <th></th>\n",
       "      <th></th>\n",
       "      <th></th>\n",
       "      <th></th>\n",
       "      <th></th>\n",
       "      <th></th>\n",
       "      <th></th>\n",
       "    </tr>\n",
       "  </thead>\n",
       "  <tbody>\n",
       "    <tr>\n",
       "      <th>2025-03-20 00:00:00-03:00</th>\n",
       "      <td>12.41</td>\n",
       "      <td>12.49</td>\n",
       "      <td>12.24</td>\n",
       "      <td>12.35</td>\n",
       "      <td>31369300</td>\n",
       "      <td>0.0</td>\n",
       "      <td>0.0</td>\n",
       "    </tr>\n",
       "    <tr>\n",
       "      <th>2025-03-21 00:00:00-03:00</th>\n",
       "      <td>12.38</td>\n",
       "      <td>12.59</td>\n",
       "      <td>12.36</td>\n",
       "      <td>12.52</td>\n",
       "      <td>74318800</td>\n",
       "      <td>0.0</td>\n",
       "      <td>0.0</td>\n",
       "    </tr>\n",
       "    <tr>\n",
       "      <th>2025-03-24 00:00:00-03:00</th>\n",
       "      <td>12.54</td>\n",
       "      <td>12.73</td>\n",
       "      <td>12.47</td>\n",
       "      <td>12.65</td>\n",
       "      <td>44562300</td>\n",
       "      <td>0.0</td>\n",
       "      <td>0.0</td>\n",
       "    </tr>\n",
       "    <tr>\n",
       "      <th>2025-03-25 00:00:00-03:00</th>\n",
       "      <td>12.70</td>\n",
       "      <td>13.29</td>\n",
       "      <td>12.65</td>\n",
       "      <td>12.86</td>\n",
       "      <td>63764400</td>\n",
       "      <td>0.0</td>\n",
       "      <td>0.0</td>\n",
       "    </tr>\n",
       "    <tr>\n",
       "      <th>2025-03-26 00:00:00-03:00</th>\n",
       "      <td>12.98</td>\n",
       "      <td>13.15</td>\n",
       "      <td>12.90</td>\n",
       "      <td>13.07</td>\n",
       "      <td>49039200</td>\n",
       "      <td>0.0</td>\n",
       "      <td>0.0</td>\n",
       "    </tr>\n",
       "  </tbody>\n",
       "</table>\n",
       "</div>"
      ],
      "text/plain": [
       "                            Open   High    Low  Close    Volume  Dividends  \\\n",
       "Date                                                                         \n",
       "2025-03-20 00:00:00-03:00  12.41  12.49  12.24  12.35  31369300        0.0   \n",
       "2025-03-21 00:00:00-03:00  12.38  12.59  12.36  12.52  74318800        0.0   \n",
       "2025-03-24 00:00:00-03:00  12.54  12.73  12.47  12.65  44562300        0.0   \n",
       "2025-03-25 00:00:00-03:00  12.70  13.29  12.65  12.86  63764400        0.0   \n",
       "2025-03-26 00:00:00-03:00  12.98  13.15  12.90  13.07  49039200        0.0   \n",
       "\n",
       "                           Stock Splits  \n",
       "Date                                     \n",
       "2025-03-20 00:00:00-03:00           0.0  \n",
       "2025-03-21 00:00:00-03:00           0.0  \n",
       "2025-03-24 00:00:00-03:00           0.0  \n",
       "2025-03-25 00:00:00-03:00           0.0  \n",
       "2025-03-26 00:00:00-03:00           0.0  "
      ]
     },
     "execution_count": 11,
     "metadata": {},
     "output_type": "execute_result"
    }
   ],
   "source": [
    "ticker_obj.history(period=periodo)"
   ]
  },
  {
   "cell_type": "code",
   "execution_count": 20,
   "metadata": {},
   "outputs": [],
   "source": [
    "def retorna_cotacao(ticker, periodo=\"1mo\"):\n",
    "    ticker_obj = yf.Ticker(f\"{ticker}.SA\")\n",
    "    hist = ticker_obj.history(period=periodo)[\"Close\"]\n",
    "    hist.index = hist.index.strftime(\"%y-%m-%d\")\n",
    "    hist = round(hist, 2)\n",
    "    if len(hist) > 30:\n",
    "        slice_size = int(len(hist) / 30)\n",
    "        hist = hist.iloc[::-slice_size][::-1]\n",
    "    return hist.to_json()"
   ]
  },
  {
   "cell_type": "code",
   "execution_count": 21,
   "metadata": {},
   "outputs": [
    {
     "data": {
      "text/plain": [
       "'{\"24-03-28\":26.04,\"24-04-10\":26.49,\"24-04-22\":25.19,\"24-05-03\":25.95,\"24-05-15\":25.43,\"24-05-27\":25.21,\"24-06-07\":25.0,\"24-06-19\":24.76,\"24-07-01\":24.84,\"24-07-11\":24.96,\"24-07-23\":25.43,\"24-08-02\":24.65,\"24-08-14\":26.32,\"24-08-26\":27.14,\"24-09-05\":28.02,\"24-09-17\":27.37,\"24-09-27\":26.28,\"24-10-09\":25.49,\"24-10-21\":25.67,\"24-10-31\":25.39,\"24-11-12\":25.02,\"24-11-26\":25.23,\"24-12-06\":24.3,\"24-12-18\":23.49,\"25-01-03\":23.49,\"25-01-15\":25.01,\"25-01-27\":27.42,\"25-02-06\":27.86,\"25-02-18\":29.14,\"25-02-28\":27.03,\"25-03-14\":27.88,\"25-03-26\":28.81}'"
      ]
     },
     "execution_count": 21,
     "metadata": {},
     "output_type": "execute_result"
    }
   ],
   "source": [
    "hist = retorna_cotacao(\"BBAS3\", \"1y\")\n",
    "hist"
   ]
  }
 ],
 "metadata": {
  "kernelspec": {
   "display_name": ".venv",
   "language": "python",
   "name": "python3"
  },
  "language_info": {
   "codemirror_mode": {
    "name": "ipython",
    "version": 3
   },
   "file_extension": ".py",
   "mimetype": "text/x-python",
   "name": "python",
   "nbconvert_exporter": "python",
   "pygments_lexer": "ipython3",
   "version": "3.11.9"
  }
 },
 "nbformat": 4,
 "nbformat_minor": 2
}
